{
 "cells": [
  {
   "cell_type": "code",
   "id": "initial_id",
   "metadata": {
    "collapsed": true,
    "ExecuteTime": {
     "end_time": "2024-10-13T12:50:13.449019Z",
     "start_time": "2024-10-13T12:50:13.391143Z"
    }
   },
   "source": [
    "import numpy as np\n",
    "import torch\n",
    "from PIL import Image\n",
    "from pathlib import Path\n",
    "from os.path import splitext\n",
    "import matplotlib.pyplot as plt\n",
    "\n",
    "def load_image(filename):\n",
    "    ext = splitext(filename)[1]\n",
    "    if ext == '.npy':\n",
    "        return Image.fromarray(np.load(filename))\n",
    "    elif ext in ['.pt', '.pth']:\n",
    "        return Image.fromarray(torch.load(filename).numpy())\n",
    "    else:\n",
    "        return Image.open(filename)\n",
    "\n",
    "def preprocess(mask_values, pil_img, scale, is_mask):\n",
    "    w, h = pil_img.size\n",
    "    newW, newH = int(scale * w), int(scale * h)\n",
    "    assert newW > 0 and newH > 0, 'Scale is too small, resized images would have no pixel'\n",
    "    pil_img = pil_img.resize((newW, newH), resample=Image.NEAREST if is_mask else Image.BICUBIC)\n",
    "    img = np.asarray(pil_img)\n",
    "\n",
    "    if is_mask:\n",
    "        mask = np.zeros((newH, newW), dtype=np.int64)\n",
    "        for i, v in enumerate(mask_values):\n",
    "            if img.ndim == 2:\n",
    "                mask[img == v] = i\n",
    "            else:\n",
    "                mask[(img == v).all(-1)] = i\n",
    "\n",
    "        return mask\n",
    "\n",
    "    else:\n",
    "        if img.ndim == 2:\n",
    "            img = img[np.newaxis, ...]\n",
    "        else:\n",
    "            img = img.transpose((2, 0, 1))\n",
    "\n",
    "        if (img > 1).any():\n",
    "            img = img / 255.0\n",
    "\n",
    "        return img\n",
    "\n",
    "def test_functions(mask_file_path, scale=1.0):\n",
    "    mask_img = load_image(mask_file_path)\n",
    "    mask_array = np.asarray(mask_img)\n",
    "    unique_values = np.unique(mask_array)\n",
    "    mask_values = list(sorted(unique_values))  \n",
    "    mask = preprocess(mask_values, mask_img, scale, is_mask=True)\n",
    "    plt.figure(figsize=(8, 8))\n",
    "    plt.imshow(mask, cmap='gray', interpolation='nearest')\n",
    "    plt.title('Processed Mask')\n",
    "    plt.axis('off')  \n",
    "    plt.show()\n",
    "\n",
    "    print(\"Mask shape:\", mask.shape)\n",
    "    print(\"Unique mask values:\", np.unique(mask))\n",
    "\n",
    "if __name__ == \"__main__\":\n",
    "    mask_file = r'C:\\Users\\linizhang\\Desktop\\tuxiang\\03_test_mask.gif'\n",
    "    test_functions(mask_file)"
   ],
   "outputs": [
    {
     "data": {
      "text/plain": [
       "<Figure size 800x800 with 1 Axes>"
      ],
      "image/png": "[encoded data removed]"
     },
     "metadata": {},
     "output_type": "display_data"
    },
    {
     "name": "stdout",
     "output_type": "stream",
     "text": [
      "Mask shape: (584, 565)\n",
      "Unique mask values: [0 1]\n"
     ]
    }
   ],
   "execution_count": 9
  },
  {
   "metadata": {
    "ExecuteTime": {
     "end_time": "2024-10-13T12:41:04.359886Z",
     "start_time": "2024-10-13T12:41:04.352699Z"
    }
   },
   "cell_type": "code",
   "source": "",
   "id": "c76c99ee38034183",
   "outputs": [],
   "execution_count": null
  },
  {
   "metadata": {},
   "cell_type": "code",
   "outputs": [],
   "execution_count": null,
   "source": "",
   "id": "934d5dc09f6245ea"
  }
 ],
 "metadata": {
  "kernelspec": {
   "display_name": "Python 3",
   "language": "python",
   "name": "python3"
  },
  "language_info": {
   "codemirror_mode": {
    "name": "ipython",
    "version": 2
   },
   "file_extension": ".py",
   "mimetype": "text/x-python",
   "name": "python",
   "nbconvert_exporter": "python",
   "pygments_lexer": "ipython2",
   "version": "2.7.6"
  }
 },
 "nbformat": 4,
 "nbformat_minor": 5
}
